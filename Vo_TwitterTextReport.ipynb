{
 "cells": [
  {
   "cell_type": "markdown",
   "id": "677bfd3b",
   "metadata": {},
   "source": [
    "# Twitter Text Report\n",
    "\n",
    "## By Quan Vo\n",
    "\n",
    "### 10/25/22"
   ]
  },
  {
   "cell_type": "markdown",
   "id": "55e6c72a",
   "metadata": {},
   "source": [
    "For this assignment, I am tasked to collect tweets about a topic of my choice using the Twitter Recent Search API. I decided to choose the Russia-Ukraine War as my topic due to it being a current event that's gotten a lot of attention, so I could gather a lot of information from this topic. I didn't want to collect tweets from simply anybody though, so I narrowed my search down to verified and professional accounts. As a result, the first thing I thought of was to search for tweets specifically from a variety news and journalism accounts on Twitter. I figured these sources would offer professional insight on what's happening in the war."
   ]
  },
  {
   "cell_type": "code",
   "execution_count": 622,
   "id": "6e192128",
   "metadata": {},
   "outputs": [],
   "source": [
    "import pandas as pd\n",
    "import json\n",
    "import requests\n",
    "import urllib"
   ]
  },
  {
   "cell_type": "markdown",
   "id": "9b50eaf5",
   "metadata": {},
   "source": [
    "When starting out, I initially had my question for the topic be \"what are the most common viewpoints related to the war?\" However, I realized that this question might not be as possible to answer because since I'm only collecting tweets from news and journalistic sources, they're more than likely to have wildly differing views from one another, so searching for similar viewpoints might be a bit of a challenge. Instead, I decided to have my question be \"which events related to the war are being reported on the most?\" The accounts I've chosen include but are not limited to: CNN, Fox News, Reuters, Guardian, Russia Today, and The Kyiv Independent."
   ]
  },
  {
   "cell_type": "code",
   "execution_count": 623,
   "id": "1980c705",
   "metadata": {},
   "outputs": [],
   "source": [
    "endpoint = 'https://api.twitter.com/2/tweets/search/recent'\n",
    "bt = pd.read_csv('Twitter_Token_9-22.txt', header = 0)"
   ]
  },
  {
   "cell_type": "code",
   "execution_count": 624,
   "id": "28b3c5e6",
   "metadata": {},
   "outputs": [],
   "source": [
    "header = {'Authorization': 'Bearer {}'.format(bt['Bearer_Token'][0])}"
   ]
  },
  {
   "cell_type": "markdown",
   "id": "f098a1e7",
   "metadata": {},
   "source": [
    "I started off building the search query with urllib, choosing specific words related to Russia and Ukraine, and then choosing which accounts to search these specific words from. After that, I used variables to type out the specific fields that I want to display in my data frame."
   ]
  },
  {
   "cell_type": "code",
   "execution_count": 625,
   "id": "6233f891",
   "metadata": {},
   "outputs": [],
   "source": [
    "query_param = urllib.parse.quote('(russia OR ukraine OR putin OR nato OR azov OR kiev OR kyiv OR zelenskyy OR russian OR russians OR ukrainian OR ukrainians) (from:KyivIndependent OR from:RT_com OR from:guardian OR from:CNN OR from:FoxNews OR from:reuters OR from:BBCBeaking OR from:nytimes OR from:democracynow)')"
   ]
  },
  {
   "cell_type": "code",
   "execution_count": 626,
   "id": "b4740d2d",
   "metadata": {},
   "outputs": [],
   "source": [
    "user_fields = 'username,name'"
   ]
  },
  {
   "cell_type": "code",
   "execution_count": 627,
   "id": "d8a1c990",
   "metadata": {},
   "outputs": [],
   "source": [
    "expansions = 'entities.mentions.username'"
   ]
  },
  {
   "cell_type": "code",
   "execution_count": 628,
   "id": "8f1b475a",
   "metadata": {},
   "outputs": [],
   "source": [
    "tweet_fields = 'author_id,public_metrics,created_at,lang'"
   ]
  },
  {
   "cell_type": "code",
   "execution_count": 629,
   "id": "ab0a94b0",
   "metadata": {},
   "outputs": [],
   "source": [
    "query_url = endpoint + '?query={}&user.fields={}&expansions={}&tweet.fields={}&max_results=100'.format(query_param, user_fields, expansions, tweet_fields)"
   ]
  },
  {
   "cell_type": "code",
   "execution_count": 630,
   "id": "f726b4af",
   "metadata": {},
   "outputs": [],
   "source": [
    "response = requests.get(query_url, headers = header)"
   ]
  },
  {
   "cell_type": "code",
   "execution_count": 631,
   "id": "e7619d86",
   "metadata": {},
   "outputs": [
    {
     "data": {
      "text/plain": [
       "200"
      ]
     },
     "execution_count": 631,
     "metadata": {},
     "output_type": "execute_result"
    }
   ],
   "source": [
    "response.status_code"
   ]
  },
  {
   "cell_type": "code",
   "execution_count": 632,
   "id": "b5879635",
   "metadata": {
    "scrolled": true
   },
   "outputs": [],
   "source": [
    "# response.text"
   ]
  },
  {
   "cell_type": "code",
   "execution_count": 633,
   "id": "99cbbb9b",
   "metadata": {},
   "outputs": [],
   "source": [
    "response_dict = json.loads(response.text)"
   ]
  },
  {
   "cell_type": "code",
   "execution_count": 634,
   "id": "d09cdfe5",
   "metadata": {},
   "outputs": [
    {
     "data": {
      "text/plain": [
       "dict_keys(['data', 'includes', 'meta'])"
      ]
     },
     "execution_count": 634,
     "metadata": {},
     "output_type": "execute_result"
    }
   ],
   "source": [
    "response_dict.keys()"
   ]
  },
  {
   "cell_type": "code",
   "execution_count": 635,
   "id": "aa3f0d64",
   "metadata": {},
   "outputs": [
    {
     "data": {
      "text/plain": [
       "list"
      ]
     },
     "execution_count": 635,
     "metadata": {},
     "output_type": "execute_result"
    }
   ],
   "source": [
    "type(response_dict['data'])"
   ]
  },
  {
   "cell_type": "code",
   "execution_count": 636,
   "id": "a7fc385c",
   "metadata": {},
   "outputs": [
    {
     "data": {
      "text/plain": [
       "dict"
      ]
     },
     "execution_count": 636,
     "metadata": {},
     "output_type": "execute_result"
    }
   ],
   "source": [
    "type(response_dict['data'][0])"
   ]
  },
  {
   "cell_type": "markdown",
   "id": "93cb46a2",
   "metadata": {},
   "source": [
    "The cell below contains the different fields that are inside the data of the variable response_dict. These will be generated as columns for the first draft of my data frame. Some of the fields provided are what I need ('created_at', 'author_id', 'text') while others are fields that I could exclude ('edit_history_tweet_ids'). There's even one field that needed to be separated into multiple columns ('public_metrics'). The only other field I needed was 'username' but unfortunately, I was not able to include that within the data of resonse_dict, so it was left out. It seems that response_dict['data'] only included the fields from \"tweet.fields\" and completely excluded \"user.fields\" from the data. I unfortunately was not able to figure out how to fix that."
   ]
  },
  {
   "cell_type": "code",
   "execution_count": 637,
   "id": "f55277a6",
   "metadata": {},
   "outputs": [
    {
     "data": {
      "text/plain": [
       "dict_keys(['lang', 'edit_history_tweet_ids', 'text', 'author_id', 'created_at', 'id', 'public_metrics'])"
      ]
     },
     "execution_count": 637,
     "metadata": {},
     "output_type": "execute_result"
    }
   ],
   "source": [
    "response_dict['data'][0].keys()"
   ]
  },
  {
   "cell_type": "code",
   "execution_count": 638,
   "id": "44a40b0c",
   "metadata": {
    "scrolled": true
   },
   "outputs": [
    {
     "data": {
      "text/plain": [
       "\"Infrastructure bottlenecks hamper Russia's booming coal exports to China https://t.co/GVGOtJrQbm https://t.co/P2lVj9Impf\""
      ]
     },
     "execution_count": 638,
     "metadata": {},
     "output_type": "execute_result"
    }
   ],
   "source": [
    "response_dict['data'][0]['text']"
   ]
  },
  {
   "cell_type": "code",
   "execution_count": 639,
   "id": "3822db68",
   "metadata": {},
   "outputs": [
    {
     "data": {
      "text/plain": [
       "dict"
      ]
     },
     "execution_count": 639,
     "metadata": {},
     "output_type": "execute_result"
    }
   ],
   "source": [
    "type(response_dict['data'][0]['public_metrics'])"
   ]
  },
  {
   "cell_type": "code",
   "execution_count": 640,
   "id": "67eba639",
   "metadata": {},
   "outputs": [
    {
     "data": {
      "text/plain": [
       "dict_keys(['retweet_count', 'reply_count', 'like_count', 'quote_count'])"
      ]
     },
     "execution_count": 640,
     "metadata": {},
     "output_type": "execute_result"
    }
   ],
   "source": [
    "response_dict['data'][0]['public_metrics'].keys()"
   ]
  },
  {
   "cell_type": "code",
   "execution_count": 641,
   "id": "c8b3b647",
   "metadata": {},
   "outputs": [
    {
     "data": {
      "text/plain": [
       "18"
      ]
     },
     "execution_count": 641,
     "metadata": {},
     "output_type": "execute_result"
    }
   ],
   "source": [
    "response_dict['data'][0]['public_metrics']['like_count']"
   ]
  },
  {
   "cell_type": "code",
   "execution_count": 642,
   "id": "cf4b8365",
   "metadata": {},
   "outputs": [
    {
     "data": {
      "text/plain": [
       "'1585101864642629633'"
      ]
     },
     "execution_count": 642,
     "metadata": {},
     "output_type": "execute_result"
    }
   ],
   "source": [
    "response_dict['data'][4]['id']"
   ]
  },
  {
   "cell_type": "code",
   "execution_count": 643,
   "id": "00efb086",
   "metadata": {},
   "outputs": [],
   "source": [
    "response_df = pd.DataFrame(response_dict['data'])"
   ]
  },
  {
   "cell_type": "markdown",
   "id": "9d8b9ba4",
   "metadata": {},
   "source": [
    "Here is the first draft of the data frame that I generated. As you can see, each column is a different field containing different information. \"public_metrics\" is the only field that contains multiple types of information, so I need to take steps in order to separate that field into different columns. Another thing I noticed is that this data also contains fields called \"withheld\" and \"entities.\" I'm not really sure why the data frame contains those fields considering that \"response_dict['data'][0].keys()\" never listed them. Either way, I think that these two fields aren't necessary to use, so I also need to add some code in order to remove them."
   ]
  },
  {
   "cell_type": "code",
   "execution_count": 644,
   "id": "2be25261",
   "metadata": {},
   "outputs": [
    {
     "data": {
      "text/html": [
       "<div>\n",
       "<style scoped>\n",
       "    .dataframe tbody tr th:only-of-type {\n",
       "        vertical-align: middle;\n",
       "    }\n",
       "\n",
       "    .dataframe tbody tr th {\n",
       "        vertical-align: top;\n",
       "    }\n",
       "\n",
       "    .dataframe thead th {\n",
       "        text-align: right;\n",
       "    }\n",
       "</style>\n",
       "<table border=\"1\" class=\"dataframe\">\n",
       "  <thead>\n",
       "    <tr style=\"text-align: right;\">\n",
       "      <th></th>\n",
       "      <th>lang</th>\n",
       "      <th>edit_history_tweet_ids</th>\n",
       "      <th>text</th>\n",
       "      <th>author_id</th>\n",
       "      <th>created_at</th>\n",
       "      <th>id</th>\n",
       "      <th>public_metrics</th>\n",
       "      <th>withheld</th>\n",
       "      <th>entities</th>\n",
       "    </tr>\n",
       "  </thead>\n",
       "  <tbody>\n",
       "    <tr>\n",
       "      <th>0</th>\n",
       "      <td>en</td>\n",
       "      <td>[1585114127197937664]</td>\n",
       "      <td>Infrastructure bottlenecks hamper Russia's boo...</td>\n",
       "      <td>1652541</td>\n",
       "      <td>2022-10-26T03:40:32.000Z</td>\n",
       "      <td>1585114127197937664</td>\n",
       "      <td>{'retweet_count': 7, 'reply_count': 0, 'like_c...</td>\n",
       "      <td>NaN</td>\n",
       "      <td>NaN</td>\n",
       "    </tr>\n",
       "    <tr>\n",
       "      <th>1</th>\n",
       "      <td>en</td>\n",
       "      <td>[1585114006074818561]</td>\n",
       "      <td>A Russian court upheld Brittney Griner’s sente...</td>\n",
       "      <td>807095</td>\n",
       "      <td>2022-10-26T03:40:03.000Z</td>\n",
       "      <td>1585114006074818561</td>\n",
       "      <td>{'retweet_count': 19, 'reply_count': 33, 'like...</td>\n",
       "      <td>NaN</td>\n",
       "      <td>NaN</td>\n",
       "    </tr>\n",
       "    <tr>\n",
       "      <th>2</th>\n",
       "      <td>en</td>\n",
       "      <td>[1585111475517100033]</td>\n",
       "      <td>US may send antiquated missiles to Ukraine – R...</td>\n",
       "      <td>64643056</td>\n",
       "      <td>2022-10-26T03:30:00.000Z</td>\n",
       "      <td>1585111475517100033</td>\n",
       "      <td>{'retweet_count': 8, 'reply_count': 9, 'like_c...</td>\n",
       "      <td>{'copyright': False, 'country_codes': ['AT', '...</td>\n",
       "      <td>NaN</td>\n",
       "    </tr>\n",
       "    <tr>\n",
       "      <th>3</th>\n",
       "      <td>en</td>\n",
       "      <td>[1585101866849144833]</td>\n",
       "      <td>\"The invocation of war on religious but not ov...</td>\n",
       "      <td>1462548977367359490</td>\n",
       "      <td>2022-10-26T02:51:49.000Z</td>\n",
       "      <td>1585101866849144833</td>\n",
       "      <td>{'retweet_count': 44, 'reply_count': 14, 'like...</td>\n",
       "      <td>NaN</td>\n",
       "      <td>NaN</td>\n",
       "    </tr>\n",
       "    <tr>\n",
       "      <th>4</th>\n",
       "      <td>en</td>\n",
       "      <td>[1585101864642629633]</td>\n",
       "      <td>Assistant Secretary to the Russian Security Co...</td>\n",
       "      <td>1462548977367359490</td>\n",
       "      <td>2022-10-26T02:51:48.000Z</td>\n",
       "      <td>1585101864642629633</td>\n",
       "      <td>{'retweet_count': 43, 'reply_count': 15, 'like...</td>\n",
       "      <td>NaN</td>\n",
       "      <td>NaN</td>\n",
       "    </tr>\n",
       "  </tbody>\n",
       "</table>\n",
       "</div>"
      ],
      "text/plain": [
       "  lang edit_history_tweet_ids  \\\n",
       "0   en  [1585114127197937664]   \n",
       "1   en  [1585114006074818561]   \n",
       "2   en  [1585111475517100033]   \n",
       "3   en  [1585101866849144833]   \n",
       "4   en  [1585101864642629633]   \n",
       "\n",
       "                                                text            author_id  \\\n",
       "0  Infrastructure bottlenecks hamper Russia's boo...              1652541   \n",
       "1  A Russian court upheld Brittney Griner’s sente...               807095   \n",
       "2  US may send antiquated missiles to Ukraine – R...             64643056   \n",
       "3  \"The invocation of war on religious but not ov...  1462548977367359490   \n",
       "4  Assistant Secretary to the Russian Security Co...  1462548977367359490   \n",
       "\n",
       "                 created_at                   id  \\\n",
       "0  2022-10-26T03:40:32.000Z  1585114127197937664   \n",
       "1  2022-10-26T03:40:03.000Z  1585114006074818561   \n",
       "2  2022-10-26T03:30:00.000Z  1585111475517100033   \n",
       "3  2022-10-26T02:51:49.000Z  1585101866849144833   \n",
       "4  2022-10-26T02:51:48.000Z  1585101864642629633   \n",
       "\n",
       "                                      public_metrics  \\\n",
       "0  {'retweet_count': 7, 'reply_count': 0, 'like_c...   \n",
       "1  {'retweet_count': 19, 'reply_count': 33, 'like...   \n",
       "2  {'retweet_count': 8, 'reply_count': 9, 'like_c...   \n",
       "3  {'retweet_count': 44, 'reply_count': 14, 'like...   \n",
       "4  {'retweet_count': 43, 'reply_count': 15, 'like...   \n",
       "\n",
       "                                            withheld entities  \n",
       "0                                                NaN      NaN  \n",
       "1                                                NaN      NaN  \n",
       "2  {'copyright': False, 'country_codes': ['AT', '...      NaN  \n",
       "3                                                NaN      NaN  \n",
       "4                                                NaN      NaN  "
      ]
     },
     "execution_count": 644,
     "metadata": {},
     "output_type": "execute_result"
    }
   ],
   "source": [
    "response_df.head()"
   ]
  },
  {
   "cell_type": "code",
   "execution_count": 645,
   "id": "52496133",
   "metadata": {},
   "outputs": [
    {
     "data": {
      "text/plain": [
       "'b26v89c19zqg8o3fpzel4w4gviea0lc66c67j265hpvgd'"
      ]
     },
     "execution_count": 645,
     "metadata": {},
     "output_type": "execute_result"
    }
   ],
   "source": [
    "response_dict['meta']['next_token']"
   ]
  },
  {
   "cell_type": "code",
   "execution_count": 646,
   "id": "ea67daad",
   "metadata": {},
   "outputs": [],
   "source": [
    "next_query_url = query_url + \"&next_token={}\".format(response_dict['meta']['next_token'])"
   ]
  },
  {
   "cell_type": "code",
   "execution_count": 647,
   "id": "bf9c0dcb",
   "metadata": {},
   "outputs": [],
   "source": [
    "next_response = requests.get(next_query_url, headers = header)"
   ]
  },
  {
   "cell_type": "code",
   "execution_count": 648,
   "id": "196f459b",
   "metadata": {},
   "outputs": [
    {
     "data": {
      "text/plain": [
       "200"
      ]
     },
     "execution_count": 648,
     "metadata": {},
     "output_type": "execute_result"
    }
   ],
   "source": [
    "next_response.status_code"
   ]
  },
  {
   "cell_type": "code",
   "execution_count": 649,
   "id": "1a12f1d8",
   "metadata": {},
   "outputs": [],
   "source": [
    "# next_response.text"
   ]
  },
  {
   "cell_type": "code",
   "execution_count": 650,
   "id": "b681b8ee",
   "metadata": {},
   "outputs": [],
   "source": [
    "next_response_dict = json.loads(next_response.text)"
   ]
  },
  {
   "cell_type": "code",
   "execution_count": 651,
   "id": "1b1dad9b",
   "metadata": {},
   "outputs": [
    {
     "data": {
      "text/plain": [
       "{'newest_id': '1584907641762947073',\n",
       " 'oldest_id': '1584647195533320192',\n",
       " 'result_count': 100,\n",
       " 'next_token': 'b26v89c19zqg8o3fpzel4prhl6qnnq14leykz20q4keil'}"
      ]
     },
     "execution_count": 651,
     "metadata": {},
     "output_type": "execute_result"
    }
   ],
   "source": [
    "next_response_dict['meta']"
   ]
  },
  {
   "cell_type": "markdown",
   "id": "ade62324",
   "metadata": {},
   "source": [
    "In order to gather at least 300 tweets, I needed to create a function that allows me to do so. I named the function \"twt_recent_search\" and the parameters contain the query, the number of pages for tweets, and the header. Inside the function contains a for loop that ranges from 0 to the number of pages that will be entered. This will determine the number of tweets that will be collected."
   ]
  },
  {
   "cell_type": "code",
   "execution_count": 652,
   "id": "cfcd1560",
   "metadata": {},
   "outputs": [],
   "source": [
    "def twt_recent_search (query, num_pages, header):\n",
    "    response_list = []\n",
    "    next_token = ''\n",
    "    for i in range(0, num_pages):\n",
    "        if i > 0:\n",
    "            this_query = query + \"&next_token={}\".format(next_token)\n",
    "        else:\n",
    "            this_query = query\n",
    "        \n",
    "        this_response = requests.get(this_query, headers = header)\n",
    "        print(this_response.status_code)\n",
    "        this_response_dict = json.loads(this_response.text)\n",
    "        response_list.append(this_response_dict)\n",
    "        next_token = this_response_dict['meta']['next_token']\n",
    "        \n",
    "    return response_list"
   ]
  },
  {
   "cell_type": "markdown",
   "id": "32733bed",
   "metadata": {},
   "source": [
    "I made a new variable called \"my_responses\" In order to use the function. The function itself generates 100 tweets per page, so I entered 3 pages for the second parameter of the function."
   ]
  },
  {
   "cell_type": "code",
   "execution_count": 653,
   "id": "a4834240",
   "metadata": {},
   "outputs": [
    {
     "name": "stdout",
     "output_type": "stream",
     "text": [
      "200\n",
      "200\n",
      "200\n"
     ]
    }
   ],
   "source": [
    "my_responses = twt_recent_search(query_url, 3, header)"
   ]
  },
  {
   "cell_type": "markdown",
   "id": "150dc88e",
   "metadata": {},
   "source": [
    "The second draft of my data frame required multiple steps, so I needed to create more than one variable in order for the data frame to display 300 rows of tweets. This needed \"pd.DataFrame.from_records\" to convert the data, and then listing the data, to concatenating the data."
   ]
  },
  {
   "cell_type": "code",
   "execution_count": 654,
   "id": "62e1f246",
   "metadata": {},
   "outputs": [],
   "source": [
    "results_1 = pd.DataFrame.from_records(my_responses)"
   ]
  },
  {
   "cell_type": "code",
   "execution_count": 655,
   "id": "9378a7ca",
   "metadata": {},
   "outputs": [],
   "source": [
    "data_list = list(results_1['data'])"
   ]
  },
  {
   "cell_type": "code",
   "execution_count": 656,
   "id": "eb914a3b",
   "metadata": {},
   "outputs": [],
   "source": [
    "data_list_of_dfs = [pd.DataFrame(x) for x in data_list]"
   ]
  },
  {
   "cell_type": "code",
   "execution_count": 657,
   "id": "fb0e21fa",
   "metadata": {},
   "outputs": [],
   "source": [
    "data_df = pd.concat(data_list_of_dfs)"
   ]
  },
  {
   "cell_type": "markdown",
   "id": "15ee5cd6",
   "metadata": {},
   "source": [
    "Here's what the second data frame draft looks like. It's now at 300 rows/tweets but some of the columns still need to be removed and \"public_metrics\" still needs to be separated."
   ]
  },
  {
   "cell_type": "code",
   "execution_count": 658,
   "id": "864e56ad",
   "metadata": {
    "scrolled": false
   },
   "outputs": [
    {
     "data": {
      "text/html": [
       "<div>\n",
       "<style scoped>\n",
       "    .dataframe tbody tr th:only-of-type {\n",
       "        vertical-align: middle;\n",
       "    }\n",
       "\n",
       "    .dataframe tbody tr th {\n",
       "        vertical-align: top;\n",
       "    }\n",
       "\n",
       "    .dataframe thead th {\n",
       "        text-align: right;\n",
       "    }\n",
       "</style>\n",
       "<table border=\"1\" class=\"dataframe\">\n",
       "  <thead>\n",
       "    <tr style=\"text-align: right;\">\n",
       "      <th></th>\n",
       "      <th>public_metrics</th>\n",
       "      <th>author_id</th>\n",
       "      <th>id</th>\n",
       "      <th>lang</th>\n",
       "      <th>created_at</th>\n",
       "      <th>edit_history_tweet_ids</th>\n",
       "      <th>text</th>\n",
       "      <th>withheld</th>\n",
       "      <th>entities</th>\n",
       "    </tr>\n",
       "  </thead>\n",
       "  <tbody>\n",
       "    <tr>\n",
       "      <th>0</th>\n",
       "      <td>{'retweet_count': 7, 'reply_count': 0, 'like_c...</td>\n",
       "      <td>1652541</td>\n",
       "      <td>1585114127197937664</td>\n",
       "      <td>en</td>\n",
       "      <td>2022-10-26T03:40:32.000Z</td>\n",
       "      <td>[1585114127197937664]</td>\n",
       "      <td>Infrastructure bottlenecks hamper Russia's boo...</td>\n",
       "      <td>NaN</td>\n",
       "      <td>NaN</td>\n",
       "    </tr>\n",
       "    <tr>\n",
       "      <th>1</th>\n",
       "      <td>{'retweet_count': 19, 'reply_count': 33, 'like...</td>\n",
       "      <td>807095</td>\n",
       "      <td>1585114006074818561</td>\n",
       "      <td>en</td>\n",
       "      <td>2022-10-26T03:40:03.000Z</td>\n",
       "      <td>[1585114006074818561]</td>\n",
       "      <td>A Russian court upheld Brittney Griner’s sente...</td>\n",
       "      <td>NaN</td>\n",
       "      <td>NaN</td>\n",
       "    </tr>\n",
       "    <tr>\n",
       "      <th>2</th>\n",
       "      <td>{'retweet_count': 8, 'reply_count': 9, 'like_c...</td>\n",
       "      <td>64643056</td>\n",
       "      <td>1585111475517100033</td>\n",
       "      <td>en</td>\n",
       "      <td>2022-10-26T03:30:00.000Z</td>\n",
       "      <td>[1585111475517100033]</td>\n",
       "      <td>US may send antiquated missiles to Ukraine – R...</td>\n",
       "      <td>{'copyright': False, 'country_codes': ['AT', '...</td>\n",
       "      <td>NaN</td>\n",
       "    </tr>\n",
       "    <tr>\n",
       "      <th>3</th>\n",
       "      <td>{'retweet_count': 44, 'reply_count': 14, 'like...</td>\n",
       "      <td>1462548977367359490</td>\n",
       "      <td>1585101866849144833</td>\n",
       "      <td>en</td>\n",
       "      <td>2022-10-26T02:51:49.000Z</td>\n",
       "      <td>[1585101866849144833]</td>\n",
       "      <td>\"The invocation of war on religious but not ov...</td>\n",
       "      <td>NaN</td>\n",
       "      <td>NaN</td>\n",
       "    </tr>\n",
       "    <tr>\n",
       "      <th>4</th>\n",
       "      <td>{'retweet_count': 43, 'reply_count': 15, 'like...</td>\n",
       "      <td>1462548977367359490</td>\n",
       "      <td>1585101864642629633</td>\n",
       "      <td>en</td>\n",
       "      <td>2022-10-26T02:51:48.000Z</td>\n",
       "      <td>[1585101864642629633]</td>\n",
       "      <td>Assistant Secretary to the Russian Security Co...</td>\n",
       "      <td>NaN</td>\n",
       "      <td>NaN</td>\n",
       "    </tr>\n",
       "    <tr>\n",
       "      <th>...</th>\n",
       "      <td>...</td>\n",
       "      <td>...</td>\n",
       "      <td>...</td>\n",
       "      <td>...</td>\n",
       "      <td>...</td>\n",
       "      <td>...</td>\n",
       "      <td>...</td>\n",
       "      <td>...</td>\n",
       "      <td>...</td>\n",
       "    </tr>\n",
       "    <tr>\n",
       "      <th>95</th>\n",
       "      <td>{'retweet_count': 24, 'reply_count': 10, 'like...</td>\n",
       "      <td>1652541</td>\n",
       "      <td>1584408150286950400</td>\n",
       "      <td>en</td>\n",
       "      <td>2022-10-24T04:55:14.000Z</td>\n",
       "      <td>[1584408150286950400]</td>\n",
       "      <td>Oil prices slide as China demand data disappoi...</td>\n",
       "      <td>NaN</td>\n",
       "      <td>NaN</td>\n",
       "    </tr>\n",
       "    <tr>\n",
       "      <th>96</th>\n",
       "      <td>{'retweet_count': 28, 'reply_count': 20, 'like...</td>\n",
       "      <td>1652541</td>\n",
       "      <td>1584401870394515456</td>\n",
       "      <td>en</td>\n",
       "      <td>2022-10-24T04:30:17.000Z</td>\n",
       "      <td>[1584401870394515456]</td>\n",
       "      <td>Russia fired missiles and drones into the Ukra...</td>\n",
       "      <td>NaN</td>\n",
       "      <td>NaN</td>\n",
       "    </tr>\n",
       "    <tr>\n",
       "      <th>97</th>\n",
       "      <td>{'retweet_count': 41, 'reply_count': 15, 'like...</td>\n",
       "      <td>64643056</td>\n",
       "      <td>1584401801419292672</td>\n",
       "      <td>en</td>\n",
       "      <td>2022-10-24T04:30:00.000Z</td>\n",
       "      <td>[1584401801419292672]</td>\n",
       "      <td>Moscow warns Paris of ‘dirty bomb’ provocation...</td>\n",
       "      <td>{'copyright': False, 'country_codes': ['AT', '...</td>\n",
       "      <td>NaN</td>\n",
       "    </tr>\n",
       "    <tr>\n",
       "      <th>98</th>\n",
       "      <td>{'retweet_count': 20, 'reply_count': 6, 'like_...</td>\n",
       "      <td>87818409</td>\n",
       "      <td>1584395308586319872</td>\n",
       "      <td>en</td>\n",
       "      <td>2022-10-24T04:04:12.000Z</td>\n",
       "      <td>[1584395308586319872]</td>\n",
       "      <td>Terror to elation: Ukrainian woman’s journey f...</td>\n",
       "      <td>NaN</td>\n",
       "      <td>NaN</td>\n",
       "    </tr>\n",
       "    <tr>\n",
       "      <th>99</th>\n",
       "      <td>{'retweet_count': 14, 'reply_count': 10, 'like...</td>\n",
       "      <td>87818409</td>\n",
       "      <td>1584395306418176000</td>\n",
       "      <td>en</td>\n",
       "      <td>2022-10-24T04:04:12.000Z</td>\n",
       "      <td>[1584395306418176000]</td>\n",
       "      <td>Russia-Ukraine war live news: 25,000 have fled...</td>\n",
       "      <td>NaN</td>\n",
       "      <td>NaN</td>\n",
       "    </tr>\n",
       "  </tbody>\n",
       "</table>\n",
       "<p>300 rows × 9 columns</p>\n",
       "</div>"
      ],
      "text/plain": [
       "                                       public_metrics            author_id  \\\n",
       "0   {'retweet_count': 7, 'reply_count': 0, 'like_c...              1652541   \n",
       "1   {'retweet_count': 19, 'reply_count': 33, 'like...               807095   \n",
       "2   {'retweet_count': 8, 'reply_count': 9, 'like_c...             64643056   \n",
       "3   {'retweet_count': 44, 'reply_count': 14, 'like...  1462548977367359490   \n",
       "4   {'retweet_count': 43, 'reply_count': 15, 'like...  1462548977367359490   \n",
       "..                                                ...                  ...   \n",
       "95  {'retweet_count': 24, 'reply_count': 10, 'like...              1652541   \n",
       "96  {'retweet_count': 28, 'reply_count': 20, 'like...              1652541   \n",
       "97  {'retweet_count': 41, 'reply_count': 15, 'like...             64643056   \n",
       "98  {'retweet_count': 20, 'reply_count': 6, 'like_...             87818409   \n",
       "99  {'retweet_count': 14, 'reply_count': 10, 'like...             87818409   \n",
       "\n",
       "                     id lang                created_at edit_history_tweet_ids  \\\n",
       "0   1585114127197937664   en  2022-10-26T03:40:32.000Z  [1585114127197937664]   \n",
       "1   1585114006074818561   en  2022-10-26T03:40:03.000Z  [1585114006074818561]   \n",
       "2   1585111475517100033   en  2022-10-26T03:30:00.000Z  [1585111475517100033]   \n",
       "3   1585101866849144833   en  2022-10-26T02:51:49.000Z  [1585101866849144833]   \n",
       "4   1585101864642629633   en  2022-10-26T02:51:48.000Z  [1585101864642629633]   \n",
       "..                  ...  ...                       ...                    ...   \n",
       "95  1584408150286950400   en  2022-10-24T04:55:14.000Z  [1584408150286950400]   \n",
       "96  1584401870394515456   en  2022-10-24T04:30:17.000Z  [1584401870394515456]   \n",
       "97  1584401801419292672   en  2022-10-24T04:30:00.000Z  [1584401801419292672]   \n",
       "98  1584395308586319872   en  2022-10-24T04:04:12.000Z  [1584395308586319872]   \n",
       "99  1584395306418176000   en  2022-10-24T04:04:12.000Z  [1584395306418176000]   \n",
       "\n",
       "                                                 text  \\\n",
       "0   Infrastructure bottlenecks hamper Russia's boo...   \n",
       "1   A Russian court upheld Brittney Griner’s sente...   \n",
       "2   US may send antiquated missiles to Ukraine – R...   \n",
       "3   \"The invocation of war on religious but not ov...   \n",
       "4   Assistant Secretary to the Russian Security Co...   \n",
       "..                                                ...   \n",
       "95  Oil prices slide as China demand data disappoi...   \n",
       "96  Russia fired missiles and drones into the Ukra...   \n",
       "97  Moscow warns Paris of ‘dirty bomb’ provocation...   \n",
       "98  Terror to elation: Ukrainian woman’s journey f...   \n",
       "99  Russia-Ukraine war live news: 25,000 have fled...   \n",
       "\n",
       "                                             withheld entities  \n",
       "0                                                 NaN      NaN  \n",
       "1                                                 NaN      NaN  \n",
       "2   {'copyright': False, 'country_codes': ['AT', '...      NaN  \n",
       "3                                                 NaN      NaN  \n",
       "4                                                 NaN      NaN  \n",
       "..                                                ...      ...  \n",
       "95                                                NaN      NaN  \n",
       "96                                                NaN      NaN  \n",
       "97  {'copyright': False, 'country_codes': ['AT', '...      NaN  \n",
       "98                                                NaN      NaN  \n",
       "99                                                NaN      NaN  \n",
       "\n",
       "[300 rows x 9 columns]"
      ]
     },
     "execution_count": 658,
     "metadata": {},
     "output_type": "execute_result"
    }
   ],
   "source": [
    "data_df"
   ]
  },
  {
   "cell_type": "code",
   "execution_count": 659,
   "id": "e228b59a",
   "metadata": {},
   "outputs": [
    {
     "data": {
      "text/plain": [
       "300"
      ]
     },
     "execution_count": 659,
     "metadata": {},
     "output_type": "execute_result"
    }
   ],
   "source": [
    "len(data_df)"
   ]
  },
  {
   "cell_type": "markdown",
   "id": "a1d9c14c",
   "metadata": {},
   "source": [
    "Another new variable needed to be created in order to remove some of the columns. The \".drop\" function is what I used to get rid of them."
   ]
  },
  {
   "cell_type": "code",
   "execution_count": 660,
   "id": "c6cc54e8",
   "metadata": {},
   "outputs": [],
   "source": [
    "full_data = data_df.drop(columns = ['edit_history_tweet_ids', 'id', 'withheld', 'entities'])"
   ]
  },
  {
   "cell_type": "markdown",
   "id": "1cd155fc",
   "metadata": {},
   "source": [
    "Third draft of the data frame. Now all I need left is to isolate the information from \"public_metrics.\""
   ]
  },
  {
   "cell_type": "code",
   "execution_count": 661,
   "id": "9a25b2b2",
   "metadata": {},
   "outputs": [
    {
     "data": {
      "text/html": [
       "<div>\n",
       "<style scoped>\n",
       "    .dataframe tbody tr th:only-of-type {\n",
       "        vertical-align: middle;\n",
       "    }\n",
       "\n",
       "    .dataframe tbody tr th {\n",
       "        vertical-align: top;\n",
       "    }\n",
       "\n",
       "    .dataframe thead th {\n",
       "        text-align: right;\n",
       "    }\n",
       "</style>\n",
       "<table border=\"1\" class=\"dataframe\">\n",
       "  <thead>\n",
       "    <tr style=\"text-align: right;\">\n",
       "      <th></th>\n",
       "      <th>public_metrics</th>\n",
       "      <th>author_id</th>\n",
       "      <th>lang</th>\n",
       "      <th>created_at</th>\n",
       "      <th>text</th>\n",
       "    </tr>\n",
       "  </thead>\n",
       "  <tbody>\n",
       "    <tr>\n",
       "      <th>0</th>\n",
       "      <td>{'retweet_count': 7, 'reply_count': 0, 'like_c...</td>\n",
       "      <td>1652541</td>\n",
       "      <td>en</td>\n",
       "      <td>2022-10-26T03:40:32.000Z</td>\n",
       "      <td>Infrastructure bottlenecks hamper Russia's boo...</td>\n",
       "    </tr>\n",
       "    <tr>\n",
       "      <th>1</th>\n",
       "      <td>{'retweet_count': 19, 'reply_count': 33, 'like...</td>\n",
       "      <td>807095</td>\n",
       "      <td>en</td>\n",
       "      <td>2022-10-26T03:40:03.000Z</td>\n",
       "      <td>A Russian court upheld Brittney Griner’s sente...</td>\n",
       "    </tr>\n",
       "    <tr>\n",
       "      <th>2</th>\n",
       "      <td>{'retweet_count': 8, 'reply_count': 9, 'like_c...</td>\n",
       "      <td>64643056</td>\n",
       "      <td>en</td>\n",
       "      <td>2022-10-26T03:30:00.000Z</td>\n",
       "      <td>US may send antiquated missiles to Ukraine – R...</td>\n",
       "    </tr>\n",
       "    <tr>\n",
       "      <th>3</th>\n",
       "      <td>{'retweet_count': 44, 'reply_count': 14, 'like...</td>\n",
       "      <td>1462548977367359490</td>\n",
       "      <td>en</td>\n",
       "      <td>2022-10-26T02:51:49.000Z</td>\n",
       "      <td>\"The invocation of war on religious but not ov...</td>\n",
       "    </tr>\n",
       "    <tr>\n",
       "      <th>4</th>\n",
       "      <td>{'retweet_count': 43, 'reply_count': 15, 'like...</td>\n",
       "      <td>1462548977367359490</td>\n",
       "      <td>en</td>\n",
       "      <td>2022-10-26T02:51:48.000Z</td>\n",
       "      <td>Assistant Secretary to the Russian Security Co...</td>\n",
       "    </tr>\n",
       "    <tr>\n",
       "      <th>...</th>\n",
       "      <td>...</td>\n",
       "      <td>...</td>\n",
       "      <td>...</td>\n",
       "      <td>...</td>\n",
       "      <td>...</td>\n",
       "    </tr>\n",
       "    <tr>\n",
       "      <th>95</th>\n",
       "      <td>{'retweet_count': 24, 'reply_count': 10, 'like...</td>\n",
       "      <td>1652541</td>\n",
       "      <td>en</td>\n",
       "      <td>2022-10-24T04:55:14.000Z</td>\n",
       "      <td>Oil prices slide as China demand data disappoi...</td>\n",
       "    </tr>\n",
       "    <tr>\n",
       "      <th>96</th>\n",
       "      <td>{'retweet_count': 28, 'reply_count': 20, 'like...</td>\n",
       "      <td>1652541</td>\n",
       "      <td>en</td>\n",
       "      <td>2022-10-24T04:30:17.000Z</td>\n",
       "      <td>Russia fired missiles and drones into the Ukra...</td>\n",
       "    </tr>\n",
       "    <tr>\n",
       "      <th>97</th>\n",
       "      <td>{'retweet_count': 41, 'reply_count': 15, 'like...</td>\n",
       "      <td>64643056</td>\n",
       "      <td>en</td>\n",
       "      <td>2022-10-24T04:30:00.000Z</td>\n",
       "      <td>Moscow warns Paris of ‘dirty bomb’ provocation...</td>\n",
       "    </tr>\n",
       "    <tr>\n",
       "      <th>98</th>\n",
       "      <td>{'retweet_count': 20, 'reply_count': 6, 'like_...</td>\n",
       "      <td>87818409</td>\n",
       "      <td>en</td>\n",
       "      <td>2022-10-24T04:04:12.000Z</td>\n",
       "      <td>Terror to elation: Ukrainian woman’s journey f...</td>\n",
       "    </tr>\n",
       "    <tr>\n",
       "      <th>99</th>\n",
       "      <td>{'retweet_count': 14, 'reply_count': 10, 'like...</td>\n",
       "      <td>87818409</td>\n",
       "      <td>en</td>\n",
       "      <td>2022-10-24T04:04:12.000Z</td>\n",
       "      <td>Russia-Ukraine war live news: 25,000 have fled...</td>\n",
       "    </tr>\n",
       "  </tbody>\n",
       "</table>\n",
       "<p>300 rows × 5 columns</p>\n",
       "</div>"
      ],
      "text/plain": [
       "                                       public_metrics            author_id  \\\n",
       "0   {'retweet_count': 7, 'reply_count': 0, 'like_c...              1652541   \n",
       "1   {'retweet_count': 19, 'reply_count': 33, 'like...               807095   \n",
       "2   {'retweet_count': 8, 'reply_count': 9, 'like_c...             64643056   \n",
       "3   {'retweet_count': 44, 'reply_count': 14, 'like...  1462548977367359490   \n",
       "4   {'retweet_count': 43, 'reply_count': 15, 'like...  1462548977367359490   \n",
       "..                                                ...                  ...   \n",
       "95  {'retweet_count': 24, 'reply_count': 10, 'like...              1652541   \n",
       "96  {'retweet_count': 28, 'reply_count': 20, 'like...              1652541   \n",
       "97  {'retweet_count': 41, 'reply_count': 15, 'like...             64643056   \n",
       "98  {'retweet_count': 20, 'reply_count': 6, 'like_...             87818409   \n",
       "99  {'retweet_count': 14, 'reply_count': 10, 'like...             87818409   \n",
       "\n",
       "   lang                created_at  \\\n",
       "0    en  2022-10-26T03:40:32.000Z   \n",
       "1    en  2022-10-26T03:40:03.000Z   \n",
       "2    en  2022-10-26T03:30:00.000Z   \n",
       "3    en  2022-10-26T02:51:49.000Z   \n",
       "4    en  2022-10-26T02:51:48.000Z   \n",
       "..  ...                       ...   \n",
       "95   en  2022-10-24T04:55:14.000Z   \n",
       "96   en  2022-10-24T04:30:17.000Z   \n",
       "97   en  2022-10-24T04:30:00.000Z   \n",
       "98   en  2022-10-24T04:04:12.000Z   \n",
       "99   en  2022-10-24T04:04:12.000Z   \n",
       "\n",
       "                                                 text  \n",
       "0   Infrastructure bottlenecks hamper Russia's boo...  \n",
       "1   A Russian court upheld Brittney Griner’s sente...  \n",
       "2   US may send antiquated missiles to Ukraine – R...  \n",
       "3   \"The invocation of war on religious but not ov...  \n",
       "4   Assistant Secretary to the Russian Security Co...  \n",
       "..                                                ...  \n",
       "95  Oil prices slide as China demand data disappoi...  \n",
       "96  Russia fired missiles and drones into the Ukra...  \n",
       "97  Moscow warns Paris of ‘dirty bomb’ provocation...  \n",
       "98  Terror to elation: Ukrainian woman’s journey f...  \n",
       "99  Russia-Ukraine war live news: 25,000 have fled...  \n",
       "\n",
       "[300 rows x 5 columns]"
      ]
     },
     "execution_count": 661,
     "metadata": {},
     "output_type": "execute_result"
    }
   ],
   "source": [
    "full_data"
   ]
  },
  {
   "cell_type": "markdown",
   "id": "afa0ff84",
   "metadata": {},
   "source": [
    "In order to separate the information from \"public_metrics,\" I started off initializing a new variable called \"final_data\" and had that equal to \"pd.DataFrame(list(full_data['public_metrics'])).\" That way, it will create a data frame that only lists the information from \"public_metrics.\" This data frame itself contains different columns that I need to include in my final data frame."
   ]
  },
  {
   "cell_type": "code",
   "execution_count": 662,
   "id": "d33ea413",
   "metadata": {},
   "outputs": [],
   "source": [
    "final_data = pd.DataFrame(list(full_data['public_metrics']))"
   ]
  },
  {
   "cell_type": "code",
   "execution_count": 663,
   "id": "3b922a8f",
   "metadata": {},
   "outputs": [
    {
     "data": {
      "text/html": [
       "<div>\n",
       "<style scoped>\n",
       "    .dataframe tbody tr th:only-of-type {\n",
       "        vertical-align: middle;\n",
       "    }\n",
       "\n",
       "    .dataframe tbody tr th {\n",
       "        vertical-align: top;\n",
       "    }\n",
       "\n",
       "    .dataframe thead th {\n",
       "        text-align: right;\n",
       "    }\n",
       "</style>\n",
       "<table border=\"1\" class=\"dataframe\">\n",
       "  <thead>\n",
       "    <tr style=\"text-align: right;\">\n",
       "      <th></th>\n",
       "      <th>retweet_count</th>\n",
       "      <th>reply_count</th>\n",
       "      <th>like_count</th>\n",
       "      <th>quote_count</th>\n",
       "    </tr>\n",
       "  </thead>\n",
       "  <tbody>\n",
       "    <tr>\n",
       "      <th>0</th>\n",
       "      <td>7</td>\n",
       "      <td>0</td>\n",
       "      <td>18</td>\n",
       "      <td>2</td>\n",
       "    </tr>\n",
       "    <tr>\n",
       "      <th>1</th>\n",
       "      <td>19</td>\n",
       "      <td>33</td>\n",
       "      <td>75</td>\n",
       "      <td>8</td>\n",
       "    </tr>\n",
       "    <tr>\n",
       "      <th>2</th>\n",
       "      <td>8</td>\n",
       "      <td>9</td>\n",
       "      <td>26</td>\n",
       "      <td>3</td>\n",
       "    </tr>\n",
       "    <tr>\n",
       "      <th>3</th>\n",
       "      <td>44</td>\n",
       "      <td>14</td>\n",
       "      <td>244</td>\n",
       "      <td>0</td>\n",
       "    </tr>\n",
       "    <tr>\n",
       "      <th>4</th>\n",
       "      <td>43</td>\n",
       "      <td>15</td>\n",
       "      <td>232</td>\n",
       "      <td>5</td>\n",
       "    </tr>\n",
       "    <tr>\n",
       "      <th>...</th>\n",
       "      <td>...</td>\n",
       "      <td>...</td>\n",
       "      <td>...</td>\n",
       "      <td>...</td>\n",
       "    </tr>\n",
       "    <tr>\n",
       "      <th>295</th>\n",
       "      <td>24</td>\n",
       "      <td>10</td>\n",
       "      <td>88</td>\n",
       "      <td>4</td>\n",
       "    </tr>\n",
       "    <tr>\n",
       "      <th>296</th>\n",
       "      <td>28</td>\n",
       "      <td>20</td>\n",
       "      <td>65</td>\n",
       "      <td>8</td>\n",
       "    </tr>\n",
       "    <tr>\n",
       "      <th>297</th>\n",
       "      <td>41</td>\n",
       "      <td>15</td>\n",
       "      <td>138</td>\n",
       "      <td>4</td>\n",
       "    </tr>\n",
       "    <tr>\n",
       "      <th>298</th>\n",
       "      <td>20</td>\n",
       "      <td>6</td>\n",
       "      <td>44</td>\n",
       "      <td>1</td>\n",
       "    </tr>\n",
       "    <tr>\n",
       "      <th>299</th>\n",
       "      <td>14</td>\n",
       "      <td>10</td>\n",
       "      <td>33</td>\n",
       "      <td>2</td>\n",
       "    </tr>\n",
       "  </tbody>\n",
       "</table>\n",
       "<p>300 rows × 4 columns</p>\n",
       "</div>"
      ],
      "text/plain": [
       "     retweet_count  reply_count  like_count  quote_count\n",
       "0                7            0          18            2\n",
       "1               19           33          75            8\n",
       "2                8            9          26            3\n",
       "3               44           14         244            0\n",
       "4               43           15         232            5\n",
       "..             ...          ...         ...          ...\n",
       "295             24           10          88            4\n",
       "296             28           20          65            8\n",
       "297             41           15         138            4\n",
       "298             20            6          44            1\n",
       "299             14           10          33            2\n",
       "\n",
       "[300 rows x 4 columns]"
      ]
     },
     "execution_count": 663,
     "metadata": {},
     "output_type": "execute_result"
    }
   ],
   "source": [
    "final_data"
   ]
  },
  {
   "cell_type": "markdown",
   "id": "700d0bac",
   "metadata": {},
   "source": [
    "I wanted to rename each of the columns in \"public_metrics\" as well, so I made another new variable and renamed each of them accordingly."
   ]
  },
  {
   "cell_type": "code",
   "execution_count": 664,
   "id": "80144613",
   "metadata": {},
   "outputs": [],
   "source": [
    "full_data['retweets'] = final_data['retweet_count']\n",
    "full_data['replies'] = final_data['reply_count']\n",
    "full_data['likes'] = final_data['like_count']\n",
    "full_data['quote_tweets'] = final_data['quote_count']"
   ]
  },
  {
   "cell_type": "markdown",
   "id": "8b1f8f47",
   "metadata": {},
   "source": [
    "Fourth draft of my data frame. I finally took the columns out of \"public_metrics\" but that field itself is still displaying as a separate column along with the rest. My final step is to remove that field."
   ]
  },
  {
   "cell_type": "code",
   "execution_count": 665,
   "id": "831e763e",
   "metadata": {},
   "outputs": [
    {
     "data": {
      "text/html": [
       "<div>\n",
       "<style scoped>\n",
       "    .dataframe tbody tr th:only-of-type {\n",
       "        vertical-align: middle;\n",
       "    }\n",
       "\n",
       "    .dataframe tbody tr th {\n",
       "        vertical-align: top;\n",
       "    }\n",
       "\n",
       "    .dataframe thead th {\n",
       "        text-align: right;\n",
       "    }\n",
       "</style>\n",
       "<table border=\"1\" class=\"dataframe\">\n",
       "  <thead>\n",
       "    <tr style=\"text-align: right;\">\n",
       "      <th></th>\n",
       "      <th>public_metrics</th>\n",
       "      <th>author_id</th>\n",
       "      <th>lang</th>\n",
       "      <th>created_at</th>\n",
       "      <th>text</th>\n",
       "      <th>retweets</th>\n",
       "      <th>replies</th>\n",
       "      <th>likes</th>\n",
       "      <th>quote_tweets</th>\n",
       "    </tr>\n",
       "  </thead>\n",
       "  <tbody>\n",
       "    <tr>\n",
       "      <th>0</th>\n",
       "      <td>{'retweet_count': 7, 'reply_count': 0, 'like_c...</td>\n",
       "      <td>1652541</td>\n",
       "      <td>en</td>\n",
       "      <td>2022-10-26T03:40:32.000Z</td>\n",
       "      <td>Infrastructure bottlenecks hamper Russia's boo...</td>\n",
       "      <td>7</td>\n",
       "      <td>0</td>\n",
       "      <td>18</td>\n",
       "      <td>2</td>\n",
       "    </tr>\n",
       "    <tr>\n",
       "      <th>1</th>\n",
       "      <td>{'retweet_count': 19, 'reply_count': 33, 'like...</td>\n",
       "      <td>807095</td>\n",
       "      <td>en</td>\n",
       "      <td>2022-10-26T03:40:03.000Z</td>\n",
       "      <td>A Russian court upheld Brittney Griner’s sente...</td>\n",
       "      <td>19</td>\n",
       "      <td>33</td>\n",
       "      <td>75</td>\n",
       "      <td>8</td>\n",
       "    </tr>\n",
       "    <tr>\n",
       "      <th>2</th>\n",
       "      <td>{'retweet_count': 8, 'reply_count': 9, 'like_c...</td>\n",
       "      <td>64643056</td>\n",
       "      <td>en</td>\n",
       "      <td>2022-10-26T03:30:00.000Z</td>\n",
       "      <td>US may send antiquated missiles to Ukraine – R...</td>\n",
       "      <td>8</td>\n",
       "      <td>9</td>\n",
       "      <td>26</td>\n",
       "      <td>3</td>\n",
       "    </tr>\n",
       "    <tr>\n",
       "      <th>3</th>\n",
       "      <td>{'retweet_count': 44, 'reply_count': 14, 'like...</td>\n",
       "      <td>1462548977367359490</td>\n",
       "      <td>en</td>\n",
       "      <td>2022-10-26T02:51:49.000Z</td>\n",
       "      <td>\"The invocation of war on religious but not ov...</td>\n",
       "      <td>44</td>\n",
       "      <td>14</td>\n",
       "      <td>244</td>\n",
       "      <td>0</td>\n",
       "    </tr>\n",
       "    <tr>\n",
       "      <th>4</th>\n",
       "      <td>{'retweet_count': 43, 'reply_count': 15, 'like...</td>\n",
       "      <td>1462548977367359490</td>\n",
       "      <td>en</td>\n",
       "      <td>2022-10-26T02:51:48.000Z</td>\n",
       "      <td>Assistant Secretary to the Russian Security Co...</td>\n",
       "      <td>43</td>\n",
       "      <td>15</td>\n",
       "      <td>232</td>\n",
       "      <td>5</td>\n",
       "    </tr>\n",
       "  </tbody>\n",
       "</table>\n",
       "</div>"
      ],
      "text/plain": [
       "                                      public_metrics            author_id  \\\n",
       "0  {'retweet_count': 7, 'reply_count': 0, 'like_c...              1652541   \n",
       "1  {'retweet_count': 19, 'reply_count': 33, 'like...               807095   \n",
       "2  {'retweet_count': 8, 'reply_count': 9, 'like_c...             64643056   \n",
       "3  {'retweet_count': 44, 'reply_count': 14, 'like...  1462548977367359490   \n",
       "4  {'retweet_count': 43, 'reply_count': 15, 'like...  1462548977367359490   \n",
       "\n",
       "  lang                created_at  \\\n",
       "0   en  2022-10-26T03:40:32.000Z   \n",
       "1   en  2022-10-26T03:40:03.000Z   \n",
       "2   en  2022-10-26T03:30:00.000Z   \n",
       "3   en  2022-10-26T02:51:49.000Z   \n",
       "4   en  2022-10-26T02:51:48.000Z   \n",
       "\n",
       "                                                text  retweets  replies  \\\n",
       "0  Infrastructure bottlenecks hamper Russia's boo...         7        0   \n",
       "1  A Russian court upheld Brittney Griner’s sente...        19       33   \n",
       "2  US may send antiquated missiles to Ukraine – R...         8        9   \n",
       "3  \"The invocation of war on religious but not ov...        44       14   \n",
       "4  Assistant Secretary to the Russian Security Co...        43       15   \n",
       "\n",
       "   likes  quote_tweets  \n",
       "0     18             2  \n",
       "1     75             8  \n",
       "2     26             3  \n",
       "3    244             0  \n",
       "4    232             5  "
      ]
     },
     "execution_count": 665,
     "metadata": {},
     "output_type": "execute_result"
    }
   ],
   "source": [
    "full_data.head()"
   ]
  },
  {
   "cell_type": "code",
   "execution_count": 666,
   "id": "4c38f502",
   "metadata": {},
   "outputs": [],
   "source": [
    "final_df = full_data.drop(columns = ['public_metrics'])"
   ]
  },
  {
   "cell_type": "markdown",
   "id": "9b1284e2",
   "metadata": {},
   "source": [
    "After going through each and every step, this is what my final data frame looks like. It contains some very important fields that I need to answer my question, namely the \"text\" and \"created_at\" fields. I needed \"text\" obviously to read the tweets of each row and I needed \"created_at\" to display how recent the tweets are as a way to display their relevance. I think it's debatable whether viewing the number of likes, retweets, and replies are needed for my question but I decided to keep them just for convenience. The only other field that I needed was \"username\" but as stated, I unfortunately couldn't figure out how to include that in my data frame. This made it harder to answer my question because I didn't know which tweet belonged to which user without the \"username\" column. As a result, I decided to copy and paste my search query to the Twitter search engine in order to view which accounts posted each tweet."
   ]
  },
  {
   "cell_type": "markdown",
   "id": "3448f85a",
   "metadata": {},
   "source": [
    "As for what news stories were reported, there was a surprising amount of variety on what was being reported despite almost all of stories being linked to the conflict between Russia and Ukraine. even though most of the news reports are different, I did notice a couple a couple specific events being reported from more than one of the news sources I searched from. One of those events that come to mind being Russia's claims of Ukraine having a \"dirty bomb\" plan. Other than that, most of the stories aren't being repeated across the different news and journalism accounts and are mostly different from one another."
   ]
  },
  {
   "cell_type": "code",
   "execution_count": 667,
   "id": "a21042e0",
   "metadata": {
    "scrolled": false
   },
   "outputs": [
    {
     "data": {
      "text/html": [
       "<div>\n",
       "<style scoped>\n",
       "    .dataframe tbody tr th:only-of-type {\n",
       "        vertical-align: middle;\n",
       "    }\n",
       "\n",
       "    .dataframe tbody tr th {\n",
       "        vertical-align: top;\n",
       "    }\n",
       "\n",
       "    .dataframe thead th {\n",
       "        text-align: right;\n",
       "    }\n",
       "</style>\n",
       "<table border=\"1\" class=\"dataframe\">\n",
       "  <thead>\n",
       "    <tr style=\"text-align: right;\">\n",
       "      <th></th>\n",
       "      <th>author_id</th>\n",
       "      <th>lang</th>\n",
       "      <th>created_at</th>\n",
       "      <th>text</th>\n",
       "      <th>retweets</th>\n",
       "      <th>replies</th>\n",
       "      <th>likes</th>\n",
       "      <th>quote_tweets</th>\n",
       "    </tr>\n",
       "  </thead>\n",
       "  <tbody>\n",
       "    <tr>\n",
       "      <th>0</th>\n",
       "      <td>1652541</td>\n",
       "      <td>en</td>\n",
       "      <td>2022-10-26T03:40:32.000Z</td>\n",
       "      <td>Infrastructure bottlenecks hamper Russia's boo...</td>\n",
       "      <td>7</td>\n",
       "      <td>0</td>\n",
       "      <td>18</td>\n",
       "      <td>2</td>\n",
       "    </tr>\n",
       "    <tr>\n",
       "      <th>1</th>\n",
       "      <td>807095</td>\n",
       "      <td>en</td>\n",
       "      <td>2022-10-26T03:40:03.000Z</td>\n",
       "      <td>A Russian court upheld Brittney Griner’s sente...</td>\n",
       "      <td>19</td>\n",
       "      <td>33</td>\n",
       "      <td>75</td>\n",
       "      <td>8</td>\n",
       "    </tr>\n",
       "    <tr>\n",
       "      <th>2</th>\n",
       "      <td>64643056</td>\n",
       "      <td>en</td>\n",
       "      <td>2022-10-26T03:30:00.000Z</td>\n",
       "      <td>US may send antiquated missiles to Ukraine – R...</td>\n",
       "      <td>8</td>\n",
       "      <td>9</td>\n",
       "      <td>26</td>\n",
       "      <td>3</td>\n",
       "    </tr>\n",
       "    <tr>\n",
       "      <th>3</th>\n",
       "      <td>1462548977367359490</td>\n",
       "      <td>en</td>\n",
       "      <td>2022-10-26T02:51:49.000Z</td>\n",
       "      <td>\"The invocation of war on religious but not ov...</td>\n",
       "      <td>44</td>\n",
       "      <td>14</td>\n",
       "      <td>244</td>\n",
       "      <td>0</td>\n",
       "    </tr>\n",
       "    <tr>\n",
       "      <th>4</th>\n",
       "      <td>1462548977367359490</td>\n",
       "      <td>en</td>\n",
       "      <td>2022-10-26T02:51:48.000Z</td>\n",
       "      <td>Assistant Secretary to the Russian Security Co...</td>\n",
       "      <td>43</td>\n",
       "      <td>15</td>\n",
       "      <td>232</td>\n",
       "      <td>5</td>\n",
       "    </tr>\n",
       "    <tr>\n",
       "      <th>...</th>\n",
       "      <td>...</td>\n",
       "      <td>...</td>\n",
       "      <td>...</td>\n",
       "      <td>...</td>\n",
       "      <td>...</td>\n",
       "      <td>...</td>\n",
       "      <td>...</td>\n",
       "      <td>...</td>\n",
       "    </tr>\n",
       "    <tr>\n",
       "      <th>95</th>\n",
       "      <td>1652541</td>\n",
       "      <td>en</td>\n",
       "      <td>2022-10-24T04:55:14.000Z</td>\n",
       "      <td>Oil prices slide as China demand data disappoi...</td>\n",
       "      <td>596</td>\n",
       "      <td>61</td>\n",
       "      <td>5246</td>\n",
       "      <td>21</td>\n",
       "    </tr>\n",
       "    <tr>\n",
       "      <th>96</th>\n",
       "      <td>1652541</td>\n",
       "      <td>en</td>\n",
       "      <td>2022-10-24T04:30:17.000Z</td>\n",
       "      <td>Russia fired missiles and drones into the Ukra...</td>\n",
       "      <td>14</td>\n",
       "      <td>8</td>\n",
       "      <td>26</td>\n",
       "      <td>8</td>\n",
       "    </tr>\n",
       "    <tr>\n",
       "      <th>97</th>\n",
       "      <td>64643056</td>\n",
       "      <td>en</td>\n",
       "      <td>2022-10-24T04:30:00.000Z</td>\n",
       "      <td>Moscow warns Paris of ‘dirty bomb’ provocation...</td>\n",
       "      <td>20</td>\n",
       "      <td>2</td>\n",
       "      <td>74</td>\n",
       "      <td>1</td>\n",
       "    </tr>\n",
       "    <tr>\n",
       "      <th>98</th>\n",
       "      <td>87818409</td>\n",
       "      <td>en</td>\n",
       "      <td>2022-10-24T04:04:12.000Z</td>\n",
       "      <td>Terror to elation: Ukrainian woman’s journey f...</td>\n",
       "      <td>215</td>\n",
       "      <td>13</td>\n",
       "      <td>1650</td>\n",
       "      <td>6</td>\n",
       "    </tr>\n",
       "    <tr>\n",
       "      <th>99</th>\n",
       "      <td>87818409</td>\n",
       "      <td>en</td>\n",
       "      <td>2022-10-24T04:04:12.000Z</td>\n",
       "      <td>Russia-Ukraine war live news: 25,000 have fled...</td>\n",
       "      <td>80</td>\n",
       "      <td>25</td>\n",
       "      <td>321</td>\n",
       "      <td>6</td>\n",
       "    </tr>\n",
       "  </tbody>\n",
       "</table>\n",
       "<p>300 rows × 8 columns</p>\n",
       "</div>"
      ],
      "text/plain": [
       "              author_id lang                created_at  \\\n",
       "0               1652541   en  2022-10-26T03:40:32.000Z   \n",
       "1                807095   en  2022-10-26T03:40:03.000Z   \n",
       "2              64643056   en  2022-10-26T03:30:00.000Z   \n",
       "3   1462548977367359490   en  2022-10-26T02:51:49.000Z   \n",
       "4   1462548977367359490   en  2022-10-26T02:51:48.000Z   \n",
       "..                  ...  ...                       ...   \n",
       "95              1652541   en  2022-10-24T04:55:14.000Z   \n",
       "96              1652541   en  2022-10-24T04:30:17.000Z   \n",
       "97             64643056   en  2022-10-24T04:30:00.000Z   \n",
       "98             87818409   en  2022-10-24T04:04:12.000Z   \n",
       "99             87818409   en  2022-10-24T04:04:12.000Z   \n",
       "\n",
       "                                                 text  retweets  replies  \\\n",
       "0   Infrastructure bottlenecks hamper Russia's boo...         7        0   \n",
       "1   A Russian court upheld Brittney Griner’s sente...        19       33   \n",
       "2   US may send antiquated missiles to Ukraine – R...         8        9   \n",
       "3   \"The invocation of war on religious but not ov...        44       14   \n",
       "4   Assistant Secretary to the Russian Security Co...        43       15   \n",
       "..                                                ...       ...      ...   \n",
       "95  Oil prices slide as China demand data disappoi...       596       61   \n",
       "96  Russia fired missiles and drones into the Ukra...        14        8   \n",
       "97  Moscow warns Paris of ‘dirty bomb’ provocation...        20        2   \n",
       "98  Terror to elation: Ukrainian woman’s journey f...       215       13   \n",
       "99  Russia-Ukraine war live news: 25,000 have fled...        80       25   \n",
       "\n",
       "    likes  quote_tweets  \n",
       "0      18             2  \n",
       "1      75             8  \n",
       "2      26             3  \n",
       "3     244             0  \n",
       "4     232             5  \n",
       "..    ...           ...  \n",
       "95   5246            21  \n",
       "96     26             8  \n",
       "97     74             1  \n",
       "98   1650             6  \n",
       "99    321             6  \n",
       "\n",
       "[300 rows x 8 columns]"
      ]
     },
     "execution_count": 667,
     "metadata": {},
     "output_type": "execute_result"
    }
   ],
   "source": [
    "final_df"
   ]
  },
  {
   "cell_type": "code",
   "execution_count": 668,
   "id": "2a5511a3",
   "metadata": {},
   "outputs": [],
   "source": [
    "final_df.to_csv(r'C:\\Users\\Quan\\EMAT22110_FA22\\Vo_TwitterTextReport.csv')"
   ]
  }
 ],
 "metadata": {
  "kernelspec": {
   "display_name": "Python 3 (ipykernel)",
   "language": "python",
   "name": "python3"
  },
  "language_info": {
   "codemirror_mode": {
    "name": "ipython",
    "version": 3
   },
   "file_extension": ".py",
   "mimetype": "text/x-python",
   "name": "python",
   "nbconvert_exporter": "python",
   "pygments_lexer": "ipython3",
   "version": "3.10.4"
  }
 },
 "nbformat": 4,
 "nbformat_minor": 5
}
